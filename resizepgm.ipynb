{
 "cells": [
  {
   "cell_type": "code",
   "execution_count": null,
   "id": "277b7a35",
   "metadata": {},
   "outputs": [
    {
     "name": "stdout",
     "output_type": "stream",
     "text": [
      "original image length width (194, 259, 3)\n"
     ]
    }
   ],
   "source": [
    "import cv2\n",
    "img=cv2.imread('d1.jpg')\n",
    "print('original image length width',img.shape)\n",
    "cv2.imshow('original image',img)\n",
    "cv2.waitKey(0)"
   ]
  },
  {
   "cell_type": "code",
   "execution_count": null,
   "id": "6a518265",
   "metadata": {},
   "outputs": [],
   "source": [
    "imresize=cv2.resize(img,(150,160))\n",
    "cv2.imshow('Resized image',imgresize)\n",
    "print('Resized image width',imgresize.shape)\n",
    "cv2.waitKey(0)"
   ]
  },
  {
   "cell_type": "code",
   "execution_count": null,
   "id": "93952c06",
   "metadata": {},
   "outputs": [],
   "source": []
  }
 ],
 "metadata": {
  "kernelspec": {
   "display_name": "Python 3 (ipykernel)",
   "language": "python",
   "name": "python3"
  },
  "language_info": {
   "codemirror_mode": {
    "name": "ipython",
    "version": 3
   },
   "file_extension": ".py",
   "mimetype": "text/x-python",
   "name": "python",
   "nbconvert_exporter": "python",
   "pygments_lexer": "ipython3",
   "version": "3.9.7"
  }
 },
 "nbformat": 4,
 "nbformat_minor": 5
}
